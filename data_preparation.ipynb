{
 "cells": [
  {
   "cell_type": "markdown",
   "metadata": {},
   "source": [
    "# Data preparation"
   ]
  },
  {
   "cell_type": "markdown",
   "metadata": {},
   "source": [
    "This notebook is in charge of creating the objects that are used in the paper *Once upon a time in Algotel*. After setting a few things (mostly where you want the data to be stored and checking your packages), you only require to execute it once."
   ]
  },
  {
   "cell_type": "markdown",
   "metadata": {},
   "source": [
    "## Packages"
   ]
  },
  {
   "cell_type": "markdown",
   "metadata": {},
   "source": [
    "You need ``Gismo>=0.4.1`` for the Notebook to work."
   ]
  },
  {
   "cell_type": "code",
   "execution_count": 1,
   "metadata": {
    "ExecuteTime": {
     "end_time": "2021-02-24T15:55:41.180783Z",
     "start_time": "2021-02-24T15:55:39.466478Z"
    }
   },
   "outputs": [
    {
     "data": {
      "text/plain": [
       "'0.4.1'"
      ]
     },
     "execution_count": 1,
     "metadata": {},
     "output_type": "execute_result"
    }
   ],
   "source": [
    "import gismo\n",
    "gismo.__version__"
   ]
  },
  {
   "cell_type": "markdown",
   "metadata": {},
   "source": [
    "If you don't have gismo, you can install it from pip (``pip install gismo``), or install it from sources at https://github.com/balouf/gismo"
   ]
  },
  {
   "cell_type": "markdown",
   "metadata": {},
   "source": [
    "If you have an older version of Gismo, upgrade is strongly recommended (``pip install gismo -U``)."
   ]
  },
  {
   "cell_type": "markdown",
   "metadata": {},
   "source": [
    "## Data folder"
   ]
  },
  {
   "cell_type": "markdown",
   "metadata": {},
   "source": [
    "You need to tell where the data will be located. You can just use ``Path(\".\")`` to select your working directory or a different location if you prefer. It is recommended to have at least 2Gb available (you can clean some files afterwards)."
   ]
  },
  {
   "cell_type": "code",
   "execution_count": 2,
   "metadata": {
    "ExecuteTime": {
     "end_time": "2021-02-24T15:55:41.187798Z",
     "start_time": "2021-02-24T15:55:41.182769Z"
    }
   },
   "outputs": [
    {
     "data": {
      "text/plain": [
       "True"
      ]
     },
     "execution_count": 2,
     "metadata": {},
     "output_type": "execute_result"
    }
   ],
   "source": [
    "from pathlib import Path\n",
    "data_folder = Path(\"../../../datasets\")\n",
    "data_folder.exists()"
   ]
  },
  {
   "cell_type": "markdown",
   "metadata": {},
   "source": [
    "## DBLP retrieval"
   ]
  },
  {
   "cell_type": "markdown",
   "metadata": {},
   "source": [
    "This part first retrieves the DBLP database."
   ]
  },
  {
   "cell_type": "code",
   "execution_count": 3,
   "metadata": {
    "ExecuteTime": {
     "end_time": "2021-02-24T16:04:21.927347Z",
     "start_time": "2021-02-24T15:55:41.189804Z"
    }
   },
   "outputs": [
    {
     "name": "stdout",
     "output_type": "stream",
     "text": [
      "Retrieve https://dblp.uni-trier.de/xml/dblp.xml.gz from the Internet.\n",
      "DBLP database downloaded to ..\\..\\..\\datasets\\dblp.xml.gz.\n",
      "Converting DBLP database from ..\\..\\..\\datasets\\dblp.xml.gz (may take a while).\n",
      "Building Index.\n",
      "Conversion done.\n"
     ]
    }
   ],
   "source": [
    "from gismo.datasets.dblp import Dblp\n",
    "\n",
    "dblp = Dblp(path=data_folder)\n",
    "dblp.build()"
   ]
  },
  {
   "cell_type": "markdown",
   "metadata": {},
   "source": [
    " After a few minutes, we have something usable by gismo."
   ]
  },
  {
   "cell_type": "code",
   "execution_count": 4,
   "metadata": {
    "ExecuteTime": {
     "end_time": "2021-02-24T16:04:21.974451Z",
     "start_time": "2021-02-24T16:04:21.929347Z"
    }
   },
   "outputs": [
    {
     "data": {
      "text/plain": [
       "{'type': 'article',\n",
       " 'authors': ['Mingxing Gao', 'Hongwei Guo', 'Rongqiang Liu', 'Zongquan Deng'],\n",
       " 'title': \"Analysis of Hinge's Hysteresis Based on Response Surface Method.\",\n",
       " 'year': '2020',\n",
       " 'venue': 'IEEE Access'}"
      ]
     },
     "execution_count": 4,
     "metadata": {},
     "output_type": "execute_result"
    }
   ],
   "source": [
    "from gismo.filesource import FileSource\n",
    "\n",
    "source = FileSource(filename=\"dblp\", path=data_folder)\n",
    "source[500000]"
   ]
  },
  {
   "cell_type": "markdown",
   "metadata": {},
   "source": [
    "We have many articles there:"
   ]
  },
  {
   "cell_type": "code",
   "execution_count": 5,
   "metadata": {
    "ExecuteTime": {
     "end_time": "2021-02-24T16:04:21.981349Z",
     "start_time": "2021-02-24T16:04:21.975401Z"
    }
   },
   "outputs": [
    {
     "data": {
      "text/plain": [
       "5297597"
      ]
     },
     "execution_count": 5,
     "metadata": {},
     "output_type": "execute_result"
    }
   ],
   "source": [
    "len(source)"
   ]
  },
  {
   "cell_type": "markdown",
   "metadata": {},
   "source": [
    "## Loading program committees"
   ]
  },
  {
   "cell_type": "markdown",
   "metadata": {},
   "source": [
    "This data has been semi-automatically processed independtly and is shipped with the project. You just need to load it."
   ]
  },
  {
   "cell_type": "code",
   "execution_count": 6,
   "metadata": {
    "ExecuteTime": {
     "end_time": "2021-02-24T16:04:21.988349Z",
     "start_time": "2021-02-24T16:04:21.983348Z"
    }
   },
   "outputs": [],
   "source": [
    "import json, gzip\n",
    "with gzip.open('algotels_1999_2021.json.gz', 'rt', encoding='utf8') as f:\n",
    "    algotels = json.load(f)"
   ]
  },
  {
   "cell_type": "markdown",
   "metadata": {},
   "source": [
    "`algotels` is a dict with two keys.\n",
    "- `by_year` -> dict that associates year (string) to program committee (list of strings)\n",
    "- `pcs` -> list of all PC chairs (list of strings)"
   ]
  },
  {
   "cell_type": "markdown",
   "metadata": {},
   "source": [
    "Note that we use underscores instead of spaces for the names. This is just a trick to facilitate pre-processing later on."
   ]
  },
  {
   "cell_type": "code",
   "execution_count": 7,
   "metadata": {
    "ExecuteTime": {
     "end_time": "2021-02-24T16:04:21.997350Z",
     "start_time": "2021-02-24T16:04:21.990346Z"
    }
   },
   "outputs": [
    {
     "data": {
      "text/plain": [
       "['Bernardetta_Addis',\n",
       " 'Karine_Altisen',\n",
       " 'Thomas_Begin',\n",
       " 'Marthe_Bonamy',\n",
       " 'Quentin_Bramas',\n",
       " 'Yann_Busnel',\n",
       " 'Céline_Comte',\n",
       " 'Mathieu_Cunche',\n",
       " 'Antonella_Del_Pozzo',\n",
       " 'Eric_Gourdin',\n",
       " 'Sahar_Hoteit',\n",
       " 'Damien_Imbs',\n",
       " 'Oana_Iova',\n",
       " 'Colette_Johnen',\n",
       " 'Hicham_Khalife',\n",
       " 'Pascal_Lafourcade_0001',\n",
       " 'Mohamed_Lamine_Lamali',\n",
       " 'Anissa_Lamani',\n",
       " 'Clémence_Magnien',\n",
       " 'Nader_Mbarek',\n",
       " 'Nicolas_Nisse',\n",
       " 'Ludovic_Noirie',\n",
       " 'Anne-Cécile_Orgerie',\n",
       " 'Matthieu_Perrin',\n",
       " 'Mikaël_Rabie',\n",
       " 'Arnaud_Sangnier',\n",
       " 'Thomas_Silverston',\n",
       " 'Sébastien_Tixeuil',\n",
       " 'Thierry_Turletti']"
      ]
     },
     "execution_count": 7,
     "metadata": {},
     "output_type": "execute_result"
    }
   ],
   "source": [
    "algotels['by_year']['2021']"
   ]
  },
  {
   "cell_type": "code",
   "execution_count": 8,
   "metadata": {
    "ExecuteTime": {
     "end_time": "2021-02-24T16:04:22.007418Z",
     "start_time": "2021-02-24T16:04:22.001371Z"
    }
   },
   "outputs": [
    {
     "data": {
      "text/plain": [
       "['Benoît_Darties',\n",
       " 'Alessia_Milani',\n",
       " 'Thomas_Begin',\n",
       " 'Erwan_Le_Merrer',\n",
       " 'Christelle_Caillouet',\n",
       " 'Cristel_Pelsser',\n",
       " 'Aline_Carneiro_Viana',\n",
       " 'Stéphane_Devismes',\n",
       " 'David_Ilcinkas',\n",
       " 'Katia_Jaffrès-Runser',\n",
       " 'Lélia_Blin',\n",
       " 'Frédéric_Giroire',\n",
       " 'Jérémie_Chalopin',\n",
       " 'Fabrice_Theoleyre',\n",
       " 'Nicolas_Nisse',\n",
       " 'Franck_Rousseau',\n",
       " 'Nicolas_Hanusse',\n",
       " 'Fabien_Mathieu',\n",
       " 'Bertrand_Ducourthial',\n",
       " 'Pascal_Felber',\n",
       " 'Maria_Potop-Butucaru',\n",
       " 'Hervé_Rivano',\n",
       " 'Augustin_Chaintreau',\n",
       " 'Clémence_Magnien',\n",
       " 'David_Simplot-Ryl',\n",
       " 'Sébastien_Tixeuil',\n",
       " 'Guillaume_Chelius',\n",
       " 'David_Coudert',\n",
       " 'Marcelo_Dias_de_Amorim',\n",
       " 'Jean-Claude_König',\n",
       " 'Matthieu_Latapy',\n",
       " 'Philippe_Owezarski',\n",
       " 'Isabelle_Guérin_Lassous',\n",
       " 'Frédéric_Havet',\n",
       " 'Khaldoun_Al_Agha',\n",
       " 'Cyril_Gavoille',\n",
       " 'Thomas_Noël',\n",
       " 'Laurent_Viennot',\n",
       " 'Véronique_Vèque',\n",
       " 'Eric_Fleury',\n",
       " 'Pierre_Fraigniaud',\n",
       " 'Karine_Altisen',\n",
       " 'Quentin_Bramas']"
      ]
     },
     "execution_count": 8,
     "metadata": {},
     "output_type": "execute_result"
    }
   ],
   "source": [
    "algotels['pcs']"
   ]
  },
  {
   "cell_type": "markdown",
   "metadata": {},
   "source": [
    "## Corpus reduction"
   ]
  },
  {
   "cell_type": "markdown",
   "metadata": {
    "slideshow": {
     "slide_type": "subslide"
    }
   },
   "source": [
    "DBLP provides references for more than 5,000,000 articles. This is huge. We want to reduce the number of articles. The goal here is twofold:\n",
    "- Smaller datasets are faster, so the reduction will make it easier to perform various experiments;\n",
    "- Reduction is also an occasion to focus on the articles that are the most relevant for the study: we will not reduce randomly, but by selecting articles that are *close* to Algotel. The focus allows to give more attention to relevant fields/vocabulary."
   ]
  },
  {
   "cell_type": "markdown",
   "metadata": {},
   "source": [
    "### Algotel corpus"
   ]
  },
  {
   "cell_type": "markdown",
   "metadata": {},
   "source": [
    "We re-arrange slighly the content of ``algotels`` to make it easier to process afterwards. In details, we flatten the content into a list of dict, each dict having a display name (`name`) and a usable content (`dblp`)."
   ]
  },
  {
   "cell_type": "code",
   "execution_count": 9,
   "metadata": {
    "ExecuteTime": {
     "end_time": "2021-02-24T16:04:22.018352Z",
     "start_time": "2021-02-24T16:04:22.009348Z"
    }
   },
   "outputs": [
    {
     "data": {
      "text/plain": [
       "[{'name': '1999',\n",
       "  'dblp': 'Jean-Claude_Bermond Fabrice_Clérot Afonso_Ferreira Jean-Michel_Fourneau Pierre_Fraigniaud Cyril_Gavoille Gérard_Hébuterne Jean-Luc_Lutton Philippe_Mahey Fabrice_R._Noreils Stéphane_Ubéda Véronique_Vèque'},\n",
       " {'name': '2000',\n",
       "  'dblp': 'Alexandre_Caminada Fabrice_Clérot Eric_Fleury Jean-Michel_Fourneau Pierre_Fraigniaud Etienne_Gaudin Gérard_Hébuterne Daniel_Kofman Jean-Claude_König Martine_Labbé Philippe_Nain Thomas_Noël Stephane_Perennes Patrick_Snape Kim_Loan_Thai François_Tillerot Laurent_Viennot'},\n",
       " {'name': '2001',\n",
       "  'dblp': 'André-Luc_Beylot Stéphane_Boucheron Fabrice_Chauvet Eric_Fleury Jérôme_Galtier Etienne_Gaudin Cyril_Gavoille Michel_Gendreau S._Grisouard Gérard_Hébuterne Eric_Horlait Philippe_Jacquet Jean-Claude_König Christian_Laforest Xavier_Lagrange Geraldo_Robson_Mateus Michel_Morvan Jean-Jacques_Pansiot Nihal_Pekergin Brigitte_Plateau Alain_Quilliot Michel_Riguidel Patrick_Tortelier Véronique_Vèque Laurent_Toutain Stéphane_Ubéda'},\n",
       " {'name': '2002',\n",
       "  'dblp': 'Khaldoun_Al_Agha André-Luc_Beylot Stéphane_Boucheron Alexandre_Caminada Claude_Castelluccia Fabrice_Chauvet Andrzej_Duda Olivier_Festor Jérôme_Galtier Etienne_Gaudin Cyril_Gavoille Isabelle_Guérin_Lassous Michel_Habib Valérie_Issarny Philippe_Jacquet Xavier_Lagrange Michel_Morvan Thomas_Noël Jean-Jacques_Pansiot James_Roberts Sami_Tabbane Laurent_Toutain Stéphane_Ubéda Véronique_Vèque Laurent_Viennot'},\n",
       " {'name': '2003',\n",
       "  'dblp': 'Khaldoun_Al_Agha André-Luc_Beylot Bertrand_Ducourthial Serge_Fdida Afonso_Ferreira Eric_Fleury Cyril_Gavoille Houda_Labiod Michel_Morvan Christophe_Paul Guy_Pujolle Fabrice_Valois Guillaume_Vivier'},\n",
       " {'name': '2004',\n",
       "  'dblp': 'Gerard_Authié François_Baccelli Evripidis_Bampis Lila_Boukhatem Fabrice_Chauvet Pierre_Eisenmann Pierre_Fraigniaud Isabelle_Guérin_Lassous Frédéric_Havet Anne-Marie_Kermarrec Jean-Claude_König Martine_Labbé Olivier_Marc Adam_Ouorou André_Raspaud Catherine_Rosenberg Kavé_Salamatian Nicolas_Schabanel Ioan_Todinca Laurent_Truffet Guillaume_Vivier'},\n",
       " {'name': '2005',\n",
       "  'dblp': 'Houssem_Assadi Alain_Barrat Pascal_Berthou David_Coudert Jean-Michel_Fourneau Timur_Friedman Isabelle_Guérin_Lassous Jens_Gustedt Nicolas_Hanusse Matthieu_Latapy Fabrice_Le_Fessant Clémence_Magnien Damien_Magoni Olivier_Marc Philippe_Owezarski Christophe_Paul Christophe_Prieur David_Simplot-Ryl Sandrine_Vial'},\n",
       " {'name': '2006',\n",
       "  'dblp': 'Marcelo_Dias_de_Amorim Jean-Claude_König Alain_Barrat Dominique_Barthel André-Luc_Beylot Tijani_Chahed Guillaume_Chelius David_Coudert Bertrand_Ducourthial Jean-Michel_Fourneau Timur_Friedman Jérôme_Galtier Yacine_Ghamri-Doudane Isabelle_Guérin_Lassous Anne-Marie_Kermarrec Nicolas_Hanusse Franck_Rousseau Matthieu_Latapy Clémence_Magnien Olivier_Marc Philippe_Owezarski Christophe_Paul Christophe_Prieur Bruno_Sericola David_Simplot-Ryl Sébastien_Tixeuil'},\n",
       " {'name': '2007',\n",
       "  'dblp': 'Guillaume_Chelius David_Coudert Marin_Bertier Lélia_Blin Tijani_Chahed Claude_Chaudet Marcelo_Dias_de_Amorim Bertrand_Ducourthial Jean-Michel_Fourneau Jérôme_Galtier Cyril_Gavoille Yacine_Ghamri-Doudane Isabelle_Guérin_Lassous Clémence_Magnien Thomas_Noël Philippe_Owezarski Christophe_Paul Christophe_Prieur Hervé_Rivano Franck_Rousseau Bruno_Sericola David_Simplot-Ryl Radu_State Sébastien_Tixeuil Fabrice_Valois Sandrine_Vial Eric_Weis'},\n",
       " {'name': '2008',\n",
       "  'dblp': 'David_Simplot-Ryl Sébastien_Tixeuil Marin_Bertier Lélia_Blin Claude_Chaudet Guillaume_Chelius Johanne_Cohen Vania_Conan David_Coudert Marcelo_Dias_de_Amorim Philippe_Duchon Bertrand_Ducourthial Olivier_Festor Jean-Michel_Fourneau Cyril_Gavoille Maria_Potop-Butucaru Isabelle_Guérin_Lassous Anne-Marie_Kermarrec Emmanuelle_Lebhar Thomas_Noël Philippe_Owezarski CongDuc_Pham Jean-Benoit_Pierrot Hervé_Rivano Franck_Rousseau Fabrice_Valois Véronique_Vèque Sandrine_Vial'},\n",
       " {'name': '2009',\n",
       "  'dblp': 'Chadi_Barakat Ernst_Biersack Etienne_Birmelé Vincent_D._Blondel Olivier_Bonaventure Augustin_Chaintreau Jérémie_Chalopin Guillaume_Chelius Carole_Delporte Olivier_Dousse Olivier_Festor Timur_Friedman Frédéric_Giroire Maria_Potop-Butucaru Jean-Loup_Guillaume Nicolas_Hanusse Nidhi_Hegde David_Ilcinkas Bertrand_Jouve Emmanuelle_Lebhar Jeremie_Leguay Clémence_Magnien Damien_Magoni Pietro_Michiardi Nathalie_Mitton Thomas_Noël Andrzej_Pelc Alexandre_Proutière Camille_Roth Steve_Uhlig Sandrine_Vial Aline_Carneiro_Viana Laurent_Viennot'},\n",
       " {'name': '2010',\n",
       "  'dblp': 'Maria_Potop-Butucaru Hervé_Rivano Marcelo_Dias_de_Amorim Emmanuelle_Anceaume Marin_Bertier Lélia_Blin Pierre_Borgnat Jérémie_Chalopin Johanne_Cohen Xavier_Défago Sylvie_Delaët Stéphane_Devismes Loubna_Echabbi Hugues_Fauconnier Pascal_Felber Jean-Michel_Fourneau Bruno_Gaujal Cyril_Gavoille Fabíola_Gonçalves_Pereira_Greve Isabelle_Guérin_Lassous Nidhi_Hegde Jean-Claude_König Clémence_Magnien Mohamed_Mosbah Joanna_Moulierac Alexandre_Pinlou Philippe_Owezarski Vivien_Quéma Laurent_Roullet Matthieu_Roy Sébastien_Tixeuil'},\n",
       " {'name': '2011',\n",
       "  'dblp': 'Bertrand_Ducourthial Pascal_Felber Emmanuelle_Anceaume Nadjib_Badache Anne-Elisabeth_Baert André-Luc_Beylot Ernst_Biersack Yann_Busnel David_Coudert Sylvie_Delaët Carole_Delporte Stéphane_Devismes Marcelo_Dias_de_Amorim Eric_Gourdin Maria_Potop-Butucaru Isabelle_Guérin_Lassous Jean-Loup_Guillaume David_Ilcinkas Martine_Labbé Arnaud_Labourel Jeremie_Leguay Nathalie_Mitton Dimitri_Papadimitriou Vivien_Quéma Laurent_Roullet Nicolas_Schabanel Gwendal_Simon Ioan_Todinca Corinne_Touati Fabrice_Valois Véronique_Vèque Sandrine_Vial'},\n",
       " {'name': '2012',\n",
       "  'dblp': 'Nicolas_Hanusse Fabien_Mathieu Alain_Jean-Marie Alexandre_Proutière Alexandre_Termier Arnaud_Legout Arnaud_Legrand Bertrand_Ducourthial Claude_Chaudet Diego_Perino Dimitri_Papadimitriou Eric_Gourdin Evripidis_Bampis Fabien_Mathieu Fabio_Picconi Guillaume_Chelius Gwendal_Simon Hinde-Lilia_Bouziane Hugues_Fauconnier Isabelle_Chrisment Jean-Charles_Delvenne Jérémie_Chalopin Joanna_Moulierac Laurence_Pilard Lélia_Blin Marin_Bertier Nicolas_Bonichon Nicolas_Schabanel Pascal_Felber Patrick_Brown Stéphane_Devismes Stéphane_Messika Tahiry_Razafindralambo Thomas_Noël Vincent_Gramoli'},\n",
       " {'name': '2013',\n",
       "  'dblp': 'Anne-Elisabeth_Baert Cédric_Bentz Christophe_Crespelle Jurek_Czyzowicz Benoît_Darties Xavier_Défago Carole_Delporte Stéphane_Devismes Loubna_Echabbi Pascal_Felber Antoine_Gallais Jérôme_Galtier Maria_Potop-Butucaru Isabelle_Guérin_Lassous Florian_Huc David_Ilcinkas Claude_Jard Brigitte_Jaumard Arnaud_Labourel Jeremie_Leguay Vincent_Limouzy Erwan_Le_Merrer Fabien_de_Montgolfier Achour_Mostéfaoui Giovanni_Neglia Nicolas_Nisse Jean-Benoit_Pierrot Vivien_Quéma Fabien_Tarissan Hervé_Rivano Etienne_Riviere Franck_Rousseau Ignasi_Sau Fabrice_Theoleyre Corentin_Travers Sandrine_Vial'},\n",
       " {'name': '2014',\n",
       "  'dblp': 'Remi_Badonnel Dominique_Barthel Cédric_Bentz Thomas_Bonald Khaled_Boussetta Yann_Busnel Aline_Carneiro_Viana Jérémie_Chalopin Johanne_Cohen Christophe_Crespelle Jurek_Czyzowicz Benoît_Darties Swan_Dubois Xavier_Défago Loubna_Echabbi Paola_Flocchini Jérôme_Galtier Emmanuel_Godard Alexandre_Guitton Katia_Jaffrès-Runser Brigitte_Jaumard Adlen_Ksentini Erwan_Le_Merrer Jeremie_Leguay Pascal_Mérindol Nathalie_Mitton Enrico_Natalizio Nicolas_Nisse Ludovic_Noirie Jean-Benoit_Pierrot Laurence_Pilard Etienne_Riviere Franck_Rousseau Ignasi_Sau Nicolas_Schabanel Razvan_Stanica Fabien_Tarissan Fabrice_Theoleyre Corentin_Travers Gilles_Trédan'},\n",
       " {'name': '2015',\n",
       "  'dblp': 'Emmanuelle_Anceaume Anne-Elisabeth_Baert Lélia_Blin Yann_Busnel Christelle_Caillouet Isabelle_Chrisment Benoît_Darties Shantanu_Das Carole_Delporte Paola_Flocchini Frédéric_Giroire Isabelle_Guérin_Lassous David_Ilcinkas Katia_Jaffrès-Runser Erwan_Le_Merrer Jeremie_Leguay Fabien_Mathieu Alessia_Milani Nathalie_Mitton Franck_Rousseau Razvan_Stanica Fabien_Tarissan Géraldine_Texier Fabrice_Theoleyre'},\n",
       " {'name': '2016',\n",
       "  'dblp': 'Karine_Altisen Emmanuelle_Anceaume Chadi_Barakat Janna_Burman Arnaud_Casteigts Claude_Chaudet Riadh_Dhaou Swan_Dubois Bertrand_Ducourthial Sylvain_Durand Isabelle_Guérin_Lassous Jean-Loup_Guillaume David_Ilcinkas Katia_Jaffrès-Runser Márton_Karsai Arnaud_Labourel Bénédicte_Le_Grand Jeremie_Leguay Bernard_Mans Dorian_Mazauric Achour_Mostéfaoui Nicolas_Nisse Thomas_Noël Ludovic_Noirie Samir_Perlaza Tahiry_Razafindralambo Sébastien_Tixeuil Ioan_Todinca Joanna_Tomasik Laurent_Viennot'},\n",
       " {'name': '2017',\n",
       "  'dblp': 'Aline_Carneiro_Viana Stéphane_Devismes Karine_Altisen Emmanuelle_Anceaume Farid_Benbadis Janna_Burman Arnaud_Casteigts Hakima_Chaouchi David_Coudert Sylvie_Delaët Yoann_Dieudonné Hugues_Fauconnier Emmanuel_Godard Vincent_Gramoli Frédéric_Guinand Luís_Henrique_Maciel_Kosmalski_Costa Sahar_Hoteit Luigi_Iannone Andra-Teodora_Ilie Hicham_Khalife Ralf_Klasing Pascal_Lafourcade_0001 Patrick_Mail Nathalie_Mitton Achour_Mostéfaoui Anelise_Munaretto Franck_Petit Stephane_Rovedakis Damien_Saucez Thomas_Silverston Fabrice_Theoleyre Gilles_Trédan Artur_Ziviani'},\n",
       " {'name': '2018',\n",
       "  'dblp': 'Bernardetta_Addis Sara_Alouf Remi_Badonnel Farid_Benbadis Lélia_Blin Quentin_Bramas Marc-Olivier_Buob Christelle_Caillouet Aline_Carneiro_Viana Rémy_Cazabet Emmanuel_Chaput Christophe_Crespelle Shantanu_Das Benoît_Darties Sylvie_Delaët Stéphane_Devismes Swan_Dubois Sylvain_Durand Eric_Gourdin Isabelle_Guérin_Lassous Jean-Loup_Guillaume Martin_Heusse Sahar_Hoteit Pascal_Lafourcade_0001 Jeremie_Leguay Romaric_Ludinard Damien_Magoni Fabien_Mathieu Alessia_Milani Joanna_Moulierac Cristel_Pelsser Franck_Petit Tahiry_Razafindralambo Hervé_Rivano Stephane_Rovedakis Fabien_Tarissan Géraldine_Texier Artur_Ziviani'},\n",
       " {'name': '2019',\n",
       "  'dblp': 'Thomas_Begin Lélia_Blin Marc-Olivier_Buob Christelle_Caillouet Aline_Carneiro_Viana Arnaud_Casteigts Claude_Chaudet Christophe_Crespelle Mathieu_Cunche Swan_Dubois Bertrand_Ducourthial Frédéric_Giroire Vincent_Gramoli Fabrice_Guillemin Martin_Heusse David_Ilcinkas Katia_Jaffrès-Runser Márton_Karsai Hicham_Khalife Erwan_Le_Merrer Jeremie_Leguay Romaric_Ludinard Clémence_Magnien Patrick_Mail Achour_Mostéfaoui Philippe_Nain Ludovic_Noirie Anne-Cécile_Orgerie Hervé_Rivano Matthieu_Roy Damien_Saucez Gwendal_Simon Stéphane_Devismes Fabrice_Theoleyre Sébastien_Tixeuil Thierry_Turletti Artur_Ziviani'},\n",
       " {'name': '2020',\n",
       "  'dblp': 'Bernardetta_Addis Karine_Altisen Emmanuelle_Anceaume Lélia_Blin Marthe_Bonamy Janna_Burman Aline_Carneiro_Viana Benoît_Darties Antonella_Del_Pozzo Eric_Gourdin Sahar_Hoteit Nicolas_Huin Damien_Imbs Katia_Jaffrès-Runser Colette_Johnen Hicham_Khalife Pascal_Lafourcade_0001 Clémence_Magnien Nader_Mbarek Alessia_Milani Nicolas_Nisse Ludovic_Noirie Anne-Cécile_Orgerie Matthieu_Perrin Arnaud_Sangnier Thomas_Silverston Géraldine_Texier Fabrice_Theoleyre Sébastien_Tixeuil'},\n",
       " {'name': '2021',\n",
       "  'dblp': 'Bernardetta_Addis Karine_Altisen Thomas_Begin Marthe_Bonamy Quentin_Bramas Yann_Busnel Céline_Comte Mathieu_Cunche Antonella_Del_Pozzo Eric_Gourdin Sahar_Hoteit Damien_Imbs Oana_Iova Colette_Johnen Hicham_Khalife Pascal_Lafourcade_0001 Mohamed_Lamine_Lamali Anissa_Lamani Clémence_Magnien Nader_Mbarek Nicolas_Nisse Ludovic_Noirie Anne-Cécile_Orgerie Matthieu_Perrin Mikaël_Rabie Arnaud_Sangnier Thomas_Silverston Sébastien_Tixeuil Thierry_Turletti'},\n",
       " {'name': 'pcs',\n",
       "  'dblp': 'Benoît_Darties Alessia_Milani Thomas_Begin Erwan_Le_Merrer Christelle_Caillouet Cristel_Pelsser Aline_Carneiro_Viana Stéphane_Devismes David_Ilcinkas Katia_Jaffrès-Runser Lélia_Blin Frédéric_Giroire Jérémie_Chalopin Fabrice_Theoleyre Nicolas_Nisse Franck_Rousseau Nicolas_Hanusse Fabien_Mathieu Bertrand_Ducourthial Pascal_Felber Maria_Potop-Butucaru Hervé_Rivano Augustin_Chaintreau Clémence_Magnien David_Simplot-Ryl Sébastien_Tixeuil Guillaume_Chelius David_Coudert Marcelo_Dias_de_Amorim Jean-Claude_König Matthieu_Latapy Philippe_Owezarski Isabelle_Guérin_Lassous Frédéric_Havet Khaldoun_Al_Agha Cyril_Gavoille Thomas_Noël Laurent_Viennot Véronique_Vèque Eric_Fleury Pierre_Fraigniaud Karine_Altisen Quentin_Bramas'}]"
      ]
     },
     "execution_count": 9,
     "metadata": {},
     "output_type": "execute_result"
    }
   ],
   "source": [
    "algotels_lmks = [{'name': k, 'dblp': \" \".join(v)} for k, v in algotels['by_year'].items()]\n",
    "algotels_lmks.append({'name': 'pcs', 'dblp': \" \".join(algotels['pcs'])})\n",
    "algotels_lmks"
   ]
  },
  {
   "cell_type": "markdown",
   "metadata": {},
   "source": [
    "### Gismo on DBLP authors"
   ]
  },
  {
   "cell_type": "markdown",
   "metadata": {},
   "source": [
    "This part builds a Gismo on authors (a weighted bipartite graph between articles and authors)."
   ]
  },
  {
   "cell_type": "markdown",
   "metadata": {},
   "source": [
    "This is just initialization stuff."
   ]
  },
  {
   "cell_type": "code",
   "execution_count": 10,
   "metadata": {
    "ExecuteTime": {
     "end_time": "2021-02-24T16:04:22.028407Z",
     "start_time": "2021-02-24T16:04:22.020348Z"
    }
   },
   "outputs": [],
   "source": [
    "from gismo.corpus import Corpus\n",
    "from gismo.embedding import Embedding\n",
    "from gismo.gismo import Gismo\n",
    "from sklearn.feature_extraction.text import CountVectorizer\n",
    "vectorizer_author = CountVectorizer(dtype=float, preprocessor=lambda x:x, tokenizer=lambda x: x.split(' '))"
   ]
  },
  {
   "cell_type": "markdown",
   "metadata": {},
   "source": [
    "This part tells how to convert a dblp article dict from the source into a string representation of authors."
   ]
  },
  {
   "cell_type": "code",
   "execution_count": 11,
   "metadata": {
    "ExecuteTime": {
     "end_time": "2021-02-24T16:04:22.038349Z",
     "start_time": "2021-02-24T16:04:22.030347Z"
    }
   },
   "outputs": [],
   "source": [
    "def to_authors_text(dic):\n",
    "    return \" \".join([a.replace(' ', '_') for a in dic['authors']])\n",
    "corpus = Corpus(source, to_text=to_authors_text)"
   ]
  },
  {
   "cell_type": "markdown",
   "metadata": {},
   "source": [
    "This builds the embedding (the actual weighted bipartite graph between articles and authors)."
   ]
  },
  {
   "cell_type": "code",
   "execution_count": 12,
   "metadata": {
    "ExecuteTime": {
     "end_time": "2021-02-24T16:06:09.687097Z",
     "start_time": "2021-02-24T16:04:22.040348Z"
    }
   },
   "outputs": [],
   "source": [
    "embedding = Embedding(vectorizer=vectorizer_author)\n",
    "embedding.fit_transform(corpus)"
   ]
  },
  {
   "cell_type": "markdown",
   "metadata": {},
   "source": [
    "The Gismo is the object that glues all pieces together."
   ]
  },
  {
   "cell_type": "code",
   "execution_count": 13,
   "metadata": {
    "ExecuteTime": {
     "end_time": "2021-02-24T16:06:09.692053Z",
     "start_time": "2021-02-24T16:06:09.689088Z"
    }
   },
   "outputs": [],
   "source": [
    "gismo = Gismo(corpus, embedding)"
   ]
  },
  {
   "cell_type": "markdown",
   "metadata": {},
   "source": [
    "A gismo can do many things that we don't need right know. For example, it can easily tell your closest co-authors."
   ]
  },
  {
   "cell_type": "code",
   "execution_count": 14,
   "metadata": {
    "ExecuteTime": {
     "end_time": "2021-02-24T16:06:12.834501Z",
     "start_time": "2021-02-24T16:06:09.694057Z"
    }
   },
   "outputs": [
    {
     "data": {
      "text/plain": [
       "['Fabien_Mathieu',\n",
       " 'Laurent_Viennot',\n",
       " 'Diego_Perino',\n",
       " 'Julien_Reynier',\n",
       " 'Céline_Comte',\n",
       " 'Ludovic_Noirie',\n",
       " 'François_Durand',\n",
       " 'Fabien_de_Montgolfier',\n",
       " 'The_Dang_Huynh',\n",
       " 'Thomas_Bonald',\n",
       " 'Yacine_Boufkhad',\n",
       " 'Ilkka_Norros',\n",
       " 'Mohamed_Bouklit',\n",
       " 'Anh-Tuan_Gai',\n",
       " 'François_Baccelli',\n",
       " 'Nidhi_Hegde',\n",
       " 'Gheorghe_Postelnicu',\n",
       " 'Dohy_Hong',\n",
       " 'Anne_Bouillard']"
      ]
     },
     "execution_count": 14,
     "metadata": {},
     "output_type": "execute_result"
    }
   ],
   "source": [
    "gismo.rank(\"Fabien_Mathieu\")\n",
    "gismo.get_features_by_rank()"
   ]
  },
  {
   "cell_type": "code",
   "execution_count": 15,
   "metadata": {
    "ExecuteTime": {
     "end_time": "2021-02-24T16:06:14.429443Z",
     "start_time": "2021-02-24T16:06:12.836535Z"
    }
   },
   "outputs": [
    {
     "data": {
      "text/plain": [
       "['Philippe_Jacquet',\n",
       " 'Wojciech_Szpankowski',\n",
       " 'Bernard_Mans',\n",
       " 'Georgios_Rodolakis',\n",
       " 'Salman_Malik',\n",
       " 'Paul_Mühlethaler',\n",
       " 'Dimitris_Milioris',\n",
       " 'Cédric_Adjih',\n",
       " 'Dalia_Georgiana_Popescu',\n",
       " 'Emmanuel_Baccelli',\n",
       " 'Laurent_Viennot',\n",
       " 'Mireille_Régnier',\n",
       " 'Thomas_Heide_Clausen']"
      ]
     },
     "execution_count": 15,
     "metadata": {},
     "output_type": "execute_result"
    }
   ],
   "source": [
    "gismo.rank('Philippe_Jacquet')\n",
    "gismo.get_features_by_rank()"
   ]
  },
  {
   "cell_type": "markdown",
   "metadata": {
    "ExecuteTime": {
     "end_time": "2021-02-19T15:16:36.090413Z",
     "start_time": "2021-02-19T15:16:36.081417Z"
    }
   },
   "source": [
    "### Reducing the number of articles"
   ]
  },
  {
   "cell_type": "markdown",
   "metadata": {},
   "source": [
    "Through the Landmarks submodule, Gismo can associate some arbitrary items (like programm committee) to articles and/or authors.\n",
    "\n",
    "The following lines tell to associate each entry of `algotels_lmk` to up-to 20,000 articles, which will be selected by Gismo, and to build a selection of articles by merging all results."
   ]
  },
  {
   "cell_type": "code",
   "execution_count": 16,
   "metadata": {
    "ExecuteTime": {
     "end_time": "2021-02-24T16:06:14.436439Z",
     "start_time": "2021-02-24T16:06:14.430441Z"
    }
   },
   "outputs": [],
   "source": [
    "from gismo.landmarks import Landmarks\n",
    "landmarks_full = Landmarks(source=algotels_lmks, to_text=lambda x: x['dblp'],\n",
    "                                 x_density=20000)"
   ]
  },
  {
   "cell_type": "code",
   "execution_count": 17,
   "metadata": {
    "ExecuteTime": {
     "end_time": "2021-02-24T16:08:32.662422Z",
     "start_time": "2021-02-24T16:06:14.437982Z"
    }
   },
   "outputs": [],
   "source": [
    "reduced_source = landmarks_full.get_reduced_source(gismo)"
   ]
  },
  {
   "cell_type": "code",
   "execution_count": 18,
   "metadata": {
    "ExecuteTime": {
     "end_time": "2021-02-24T16:08:32.668374Z",
     "start_time": "2021-02-24T16:08:32.664347Z"
    }
   },
   "outputs": [
    {
     "name": "stdout",
     "output_type": "stream",
     "text": [
      "Source length went down from 5297597 to 119159.\n"
     ]
    }
   ],
   "source": [
    "print(f\"Source length went down from {len(source)} to {len(reduced_source)}.\")"
   ]
  },
  {
   "cell_type": "markdown",
   "metadata": {},
   "source": [
    "We can close the original DBLP source (the big DBLP source keeps a file open while in use)."
   ]
  },
  {
   "cell_type": "code",
   "execution_count": 19,
   "metadata": {
    "ExecuteTime": {
     "end_time": "2021-02-24T16:08:32.684478Z",
     "start_time": "2021-02-24T16:08:32.669954Z"
    }
   },
   "outputs": [],
   "source": [
    "source.close()"
   ]
  },
  {
   "cell_type": "markdown",
   "metadata": {},
   "source": [
    "## XGismo"
   ]
  },
  {
   "cell_type": "markdown",
   "metadata": {},
   "source": [
    "A XGismo object merges two bipartite graphs into a new one. Here we will merge a bipartite graph between articles and authors with a bipartite graph between articles and vocabulary, producing a bipartite graph between authors and vocabulary."
   ]
  },
  {
   "cell_type": "markdown",
   "metadata": {},
   "source": [
    "First we rebuild an author graph on the new (reduced) corpus of articles."
   ]
  },
  {
   "cell_type": "code",
   "execution_count": 20,
   "metadata": {
    "ExecuteTime": {
     "end_time": "2021-02-24T16:08:33.852479Z",
     "start_time": "2021-02-24T16:08:32.686513Z"
    }
   },
   "outputs": [],
   "source": [
    "reduced_corpus = Corpus(reduced_source, to_text=to_authors_text)\n",
    "reduced_author_embedding = Embedding(vectorizer=vectorizer_author)\n",
    "reduced_author_embedding.fit_transform(reduced_corpus)"
   ]
  },
  {
   "cell_type": "markdown",
   "metadata": {},
   "source": [
    "Then we build the vocabulary graph.\n",
    "- We use spacy to enhance word selection\n",
    "- We make a few additional tweaks, like filtering by frequency and detection of consecutive words (n-grams)"
   ]
  },
  {
   "cell_type": "code",
   "execution_count": 21,
   "metadata": {
    "ExecuteTime": {
     "end_time": "2021-02-24T16:08:35.012159Z",
     "start_time": "2021-02-24T16:08:33.854475Z"
    }
   },
   "outputs": [],
   "source": [
    "import spacy\n",
    "# Initialize spacy 'en' model, keeping only tagger component needed for lemmatization\n",
    "nlp = spacy.load('en_core_web_sm', disable=['parser', 'ner'])\n",
    "# Who cares about DET and such?\n",
    "keep = {'ADJ', 'NOUN', 'NUM', 'PROPN', 'SYM', 'VERB'}\n",
    "\n",
    "preprocessor=lambda txt: \" \".join([token.lemma_.lower() for token in nlp(txt)\n",
    "                                   if token.pos_ in keep and not token.is_stop])\n",
    "vectorizer_text = CountVectorizer(dtype=float, min_df=5, max_df=.02, ngram_range=[1, 3], preprocessor=preprocessor)"
   ]
  },
  {
   "cell_type": "markdown",
   "metadata": {},
   "source": [
    "Creation of the vocabulary graph (will take a few minutes)."
   ]
  },
  {
   "cell_type": "code",
   "execution_count": 22,
   "metadata": {
    "ExecuteTime": {
     "end_time": "2021-02-24T16:12:11.593227Z",
     "start_time": "2021-02-24T16:08:35.014186Z"
    }
   },
   "outputs": [],
   "source": [
    "reduced_corpus.to_text = lambda e: e['title']\n",
    "reduced_word_embedding = Embedding(vectorizer=vectorizer_text)\n",
    "reduced_word_embedding.fit_transform(reduced_corpus)"
   ]
  },
  {
   "cell_type": "markdown",
   "metadata": {},
   "source": [
    "Now the xgismo can be made from the two graphs."
   ]
  },
  {
   "cell_type": "code",
   "execution_count": 23,
   "metadata": {
    "ExecuteTime": {
     "end_time": "2021-02-24T16:12:11.784263Z",
     "start_time": "2021-02-24T16:12:11.597182Z"
    }
   },
   "outputs": [],
   "source": [
    "from gismo.gismo import XGismo\n",
    "xgismo = XGismo(x_embedding=reduced_author_embedding, y_embedding=reduced_word_embedding)"
   ]
  },
  {
   "cell_type": "markdown",
   "metadata": {},
   "source": [
    "The xgismo can link words or reseachers to words or researchers. For example:"
   ]
  },
  {
   "cell_type": "code",
   "execution_count": 24,
   "metadata": {
    "ExecuteTime": {
     "end_time": "2021-02-24T16:12:11.982251Z",
     "start_time": "2021-02-24T16:12:11.787181Z"
    }
   },
   "outputs": [
    {
     "data": {
      "text/plain": [
       "True"
      ]
     },
     "execution_count": 24,
     "metadata": {},
     "output_type": "execute_result"
    }
   ],
   "source": [
    "xgismo.rank(\"self-stabilization\")"
   ]
  },
  {
   "cell_type": "code",
   "execution_count": 25,
   "metadata": {
    "ExecuteTime": {
     "end_time": "2021-02-24T16:12:11.989184Z",
     "start_time": "2021-02-24T16:12:11.984267Z"
    }
   },
   "outputs": [
    {
     "data": {
      "text/plain": [
       "['Ted_Herman',\n",
       " 'Shlomi_Dolev',\n",
       " 'Sébastien_Tixeuil',\n",
       " 'Toshimitsu_Masuzawa',\n",
       " 'Shay_Kutten',\n",
       " 'Stéphane_Devismes',\n",
       " 'Swan_Dubois',\n",
       " 'Stefan_Schmid_0001',\n",
       " 'Bertrand_Ducourthial',\n",
       " 'Karine_Altisen']"
      ]
     },
     "execution_count": 25,
     "metadata": {},
     "output_type": "execute_result"
    }
   ],
   "source": [
    "xgismo.get_documents_by_rank(k=10)"
   ]
  },
  {
   "cell_type": "code",
   "execution_count": 26,
   "metadata": {
    "ExecuteTime": {
     "end_time": "2021-02-24T16:12:11.999185Z",
     "start_time": "2021-02-24T16:12:11.991181Z"
    }
   },
   "outputs": [
    {
     "data": {
      "text/plain": [
       "['self',\n",
       " 'stabilization',\n",
       " 'self stabilization',\n",
       " 'stabilize',\n",
       " 'self stabilize',\n",
       " 'byzantine',\n",
       " 'distributed',\n",
       " 'tree',\n",
       " 'asynchronous',\n",
       " 'fault']"
      ]
     },
     "execution_count": 26,
     "metadata": {},
     "output_type": "execute_result"
    }
   ],
   "source": [
    "xgismo.get_features_by_rank(k=10)"
   ]
  },
  {
   "cell_type": "code",
   "execution_count": 27,
   "metadata": {
    "ExecuteTime": {
     "end_time": "2021-02-24T16:12:12.218184Z",
     "start_time": "2021-02-24T16:12:12.001180Z"
    }
   },
   "outputs": [
    {
     "data": {
      "text/plain": [
       "True"
      ]
     },
     "execution_count": 27,
     "metadata": {},
     "output_type": "execute_result"
    }
   ],
   "source": [
    "xgismo.rank(\"Pierre_Fraigniaud\", y=False)"
   ]
  },
  {
   "cell_type": "code",
   "execution_count": 28,
   "metadata": {
    "ExecuteTime": {
     "end_time": "2021-02-24T16:12:12.225185Z",
     "start_time": "2021-02-24T16:12:12.220181Z"
    }
   },
   "outputs": [
    {
     "data": {
      "text/plain": [
       "['Pierre_Fraigniaud',\n",
       " 'Amos_Korman',\n",
       " 'Andrzej_Pelc',\n",
       " 'David_Peleg',\n",
       " 'Cyril_Gavoille',\n",
       " 'Michel_Raynal',\n",
       " 'Fedor_V._Fomin',\n",
       " 'Dimitrios_M._Thilikos',\n",
       " 'David_Ilcinkas',\n",
       " 'Nicolas_Nisse']"
      ]
     },
     "execution_count": 28,
     "metadata": {},
     "output_type": "execute_result"
    }
   ],
   "source": [
    "xgismo.get_documents_by_rank(k=10)"
   ]
  },
  {
   "cell_type": "code",
   "execution_count": 29,
   "metadata": {
    "ExecuteTime": {
     "end_time": "2021-02-24T16:12:12.235184Z",
     "start_time": "2021-02-24T16:12:12.227184Z"
    }
   },
   "outputs": [
    {
     "data": {
      "text/plain": [
       "['local',\n",
       " 'decision',\n",
       " 'local decision',\n",
       " 'advice',\n",
       " 'compute',\n",
       " 'broadcasting',\n",
       " 'verify',\n",
       " 'exploration',\n",
       " 'distributed',\n",
       " 'tree']"
      ]
     },
     "execution_count": 29,
     "metadata": {},
     "output_type": "execute_result"
    }
   ],
   "source": [
    "xgismo.get_features_by_rank(k=10)"
   ]
  },
  {
   "cell_type": "markdown",
   "metadata": {},
   "source": [
    "## Saving"
   ]
  },
  {
   "cell_type": "markdown",
   "metadata": {},
   "source": [
    "We can now save the xgismo, which is the only thing we need in addition to the program committes."
   ]
  },
  {
   "cell_type": "code",
   "execution_count": 30,
   "metadata": {
    "ExecuteTime": {
     "end_time": "2021-02-24T16:12:26.608011Z",
     "start_time": "2021-02-24T16:12:12.236181Z"
    }
   },
   "outputs": [],
   "source": [
    "xgismo.save(filename=\"algotels_xgismo\", path=data_folder, compress=True, erase=True)"
   ]
  },
  {
   "cell_type": "markdown",
   "metadata": {},
   "source": [
    "## Cleaning (optional)"
   ]
  },
  {
   "cell_type": "markdown",
   "metadata": {},
   "source": [
    "If you don't want to re-use the DBLP database in the future and need to save some space, you can safely remove the dblp files you have created."
   ]
  },
  {
   "cell_type": "markdown",
   "metadata": {},
   "source": [
    "The list of the files is:"
   ]
  },
  {
   "cell_type": "code",
   "execution_count": 31,
   "metadata": {
    "ExecuteTime": {
     "end_time": "2021-02-24T16:12:26.618000Z",
     "start_time": "2021-02-24T16:12:26.609997Z"
    }
   },
   "outputs": [
    {
     "name": "stdout",
     "output_type": "stream",
     "text": [
      "..\\..\\..\\datasets\\dblp.data (939476242 bytes)\n",
      "..\\..\\..\\datasets\\dblp.dtd (12973 bytes)\n",
      "..\\..\\..\\datasets\\dblp.index (21190666 bytes)\n",
      "..\\..\\..\\datasets\\dblp.xml.gz (615869837 bytes)\n"
     ]
    }
   ],
   "source": [
    "for file in data_folder.glob('dblp*'):\n",
    "    if file.is_file():\n",
    "        print(f\"{file} ({file.stat().st_size} bytes)\")"
   ]
  },
  {
   "cell_type": "markdown",
   "metadata": {},
   "source": [
    "If you are OK to delete these files, execute the following cell."
   ]
  },
  {
   "cell_type": "code",
   "execution_count": 32,
   "metadata": {
    "ExecuteTime": {
     "end_time": "2021-02-24T16:12:26.764046Z",
     "start_time": "2021-02-24T16:12:26.619999Z"
    }
   },
   "outputs": [],
   "source": [
    "for file in data_folder.glob('dblp*'):\n",
    "    if file.is_file():\n",
    "        file.unlink()"
   ]
  },
  {
   "cell_type": "markdown",
   "metadata": {},
   "source": [
    "This notebook is finally over. You can now switch to the other one and start playing!"
   ]
  }
 ],
 "metadata": {
  "kernelspec": {
   "display_name": "Python 3",
   "language": "python",
   "name": "python3"
  },
  "language_info": {
   "codemirror_mode": {
    "name": "ipython",
    "version": 3
   },
   "file_extension": ".py",
   "mimetype": "text/x-python",
   "name": "python",
   "nbconvert_exporter": "python",
   "pygments_lexer": "ipython3",
   "version": "3.7.7"
  },
  "toc": {
   "base_numbering": 1,
   "nav_menu": {},
   "number_sections": true,
   "sideBar": true,
   "skip_h1_title": true,
   "title_cell": "Table of Contents",
   "title_sidebar": "Contents",
   "toc_cell": false,
   "toc_position": {
    "height": "calc(100% - 180px)",
    "left": "10px",
    "top": "150px",
    "width": "384px"
   },
   "toc_section_display": true,
   "toc_window_display": true
  }
 },
 "nbformat": 4,
 "nbformat_minor": 4
}
