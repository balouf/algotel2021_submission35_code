{
 "cells": [
  {
   "cell_type": "markdown",
   "metadata": {},
   "source": [
    "# Once upon a time in Algotel"
   ]
  },
  {
   "cell_type": "markdown",
   "metadata": {},
   "source": [
    "This is the companion notebook of the paper *Il était une fois Algotel* (Once upon a time in Algotel)."
   ]
  },
  {
   "cell_type": "markdown",
   "metadata": {},
   "source": [
    "## Setup"
   ]
  },
  {
   "cell_type": "markdown",
   "metadata": {},
   "source": [
    "We assume you have executed the notebook ``data_preparation_ipynb`` to produce a file ``algotels_xgismo.pkl.gz``. If it not the case, please start with that notebook!"
   ]
  },
  {
   "cell_type": "markdown",
   "metadata": {},
   "source": [
    "### Loading xgismo+spacy"
   ]
  },
  {
   "cell_type": "markdown",
   "metadata": {},
   "source": [
    "If needed, adjust ``data_folder`` to point to the location of your ``algotels_xgismo.pkl.gz`` file."
   ]
  },
  {
   "cell_type": "code",
   "execution_count": 1,
   "metadata": {
    "ExecuteTime": {
     "end_time": "2021-02-25T15:00:10.990889Z",
     "start_time": "2021-02-25T15:00:10.980896Z"
    }
   },
   "outputs": [
    {
     "data": {
      "text/plain": [
       "True"
      ]
     },
     "execution_count": 1,
     "metadata": {},
     "output_type": "execute_result"
    }
   ],
   "source": [
    "from pathlib import Path\n",
    "data_folder = Path(\"../../../datasets\")\n",
    "data_folder.exists()"
   ]
  },
  {
   "cell_type": "markdown",
   "metadata": {},
   "source": [
    "Load the xgismo."
   ]
  },
  {
   "cell_type": "code",
   "execution_count": 2,
   "metadata": {
    "ExecuteTime": {
     "end_time": "2021-02-25T15:00:14.359683Z",
     "start_time": "2021-02-25T15:00:11.933128Z"
    }
   },
   "outputs": [],
   "source": [
    "from gismo.gismo import XGismo\n",
    "xgismo = XGismo(filename=\"algotels_xgismo\", path=data_folder)"
   ]
  },
  {
   "cell_type": "markdown",
   "metadata": {},
   "source": [
    "xgismo relies on spacy and its save does not embed the spacy nlp engine, so we need to load it separately."
   ]
  },
  {
   "cell_type": "code",
   "execution_count": 3,
   "metadata": {
    "ExecuteTime": {
     "end_time": "2021-02-25T15:00:15.335587Z",
     "start_time": "2021-02-25T15:00:14.361598Z"
    }
   },
   "outputs": [],
   "source": [
    "import spacy\n",
    "# Initialize spacy 'en' model, keeping only tagger component needed for lemmatization\n",
    "nlp = spacy.load('en_core_web_sm', disable=['parser', 'ner'])\n",
    "keep = {'ADJ', 'NOUN', 'NUM', 'PROPN', 'SYM', 'VERB'}"
   ]
  },
  {
   "cell_type": "markdown",
   "metadata": {},
   "source": [
    "Quick test, with the request *coloring*"
   ]
  },
  {
   "cell_type": "code",
   "execution_count": 4,
   "metadata": {
    "ExecuteTime": {
     "end_time": "2021-02-25T15:00:16.933650Z",
     "start_time": "2021-02-25T15:00:15.338507Z"
    }
   },
   "outputs": [
    {
     "data": {
      "text/plain": [
       "True"
      ]
     },
     "execution_count": 4,
     "metadata": {},
     "output_type": "execute_result"
    }
   ],
   "source": [
    "xgismo.rank(\"coloring\")"
   ]
  },
  {
   "cell_type": "markdown",
   "metadata": {},
   "source": [
    "Associated vocabulary."
   ]
  },
  {
   "cell_type": "code",
   "execution_count": 5,
   "metadata": {
    "ExecuteTime": {
     "end_time": "2021-02-25T15:00:17.850418Z",
     "start_time": "2021-02-25T15:00:17.845415Z"
    }
   },
   "outputs": [
    {
     "data": {
      "text/plain": [
       "'color, coloring, edge, image, planar, number, complexity, vertex, planar graphs, edge color, tree, color image, maximum, set, chromatic, bound, path, free, degree, algorithms, color problem, color graphs'"
      ]
     },
     "execution_count": 5,
     "metadata": {},
     "output_type": "execute_result"
    }
   ],
   "source": [
    "\", \".join(xgismo.get_features_by_rank())"
   ]
  },
  {
   "cell_type": "markdown",
   "metadata": {},
   "source": [
    "Associated authors"
   ]
  },
  {
   "cell_type": "code",
   "execution_count": 6,
   "metadata": {
    "ExecuteTime": {
     "end_time": "2021-02-25T15:00:19.849161Z",
     "start_time": "2021-02-25T15:00:19.844151Z"
    }
   },
   "outputs": [
    {
     "data": {
      "text/plain": [
       "'George_Paschos, Louis_Esperet, Bernard_Ries, Oleg_V._Borodin, André_Raspaud, Mickaël_Montassier, Weifan_Wang_0001, Leonid_Barenboim, Hocine_Cherifi, Lukasz_Kowalik, Benjamin_Lévêque, Yannis_Manoussakis, Dominique_de_Werra, Jiaojiao_Wu, Michael_Elkin, Marthe_Bonamy, Krzysztof_Turowski, Frédéric_Maffray, Yuehua_Bu, Alain_Trémeau, Petr_A._Golovach, Pavol_Hell, Hicham_Lakhlef, Assefaw_Hadish_Gebremedhin, Éric_Sopena, Carlos_A._B._Mello, Alexandre_Pinlou, Daniel_Gonçalves_0001, Clément_Charpentier, Reinhardt_Euler, Manoel_B._Campêlo, Aurélie_Lagoutte, Fabian_Kuhn, Shinnosuke_Seki, François_Jaeger, Mohammed_El_Hassouni, Marc_Demange, Magnús_M._Halldórsson, Fredrik_Manne'"
      ]
     },
     "execution_count": 6,
     "metadata": {},
     "output_type": "execute_result"
    }
   ],
   "source": [
    "\", \".join(xgismo.get_documents_by_rank())"
   ]
  },
  {
   "cell_type": "markdown",
   "metadata": {},
   "source": [
    "### loading and formating Algotel program committes"
   ]
  },
  {
   "cell_type": "markdown",
   "metadata": {},
   "source": [
    "We load the provided file."
   ]
  },
  {
   "cell_type": "code",
   "execution_count": 7,
   "metadata": {
    "ExecuteTime": {
     "end_time": "2021-02-25T15:00:22.494340Z",
     "start_time": "2021-02-25T15:00:22.490331Z"
    }
   },
   "outputs": [],
   "source": [
    "import json, gzip\n",
    "with gzip.open('algotels_1999_2021.json.gz', 'rt', encoding='utf8') as f:\n",
    "    algotels = json.load(f)"
   ]
  },
  {
   "cell_type": "markdown",
   "metadata": {},
   "source": [
    "We re-arrange slighly the content of ``algotels`` to make it easier to process afterwards. In details, we flatten the content into a corpus (list of dict), each dict having a display name (`name`) and a usable content (`dblp`)."
   ]
  },
  {
   "cell_type": "code",
   "execution_count": 8,
   "metadata": {
    "ExecuteTime": {
     "end_time": "2021-02-25T15:00:28.417510Z",
     "start_time": "2021-02-25T15:00:28.415013Z"
    }
   },
   "outputs": [],
   "source": [
    "algotels_lmks = [{'name': k, 'dblp': \" \".join(v)} for k, v in algotels['by_year'].items()]"
   ]
  },
  {
   "cell_type": "markdown",
   "metadata": {},
   "source": [
    "Last step: train the corpus. Each entry will be associated by the xgismo engine to a vector of authors and a vector of vocabulary. In Gismo terms, the association of a corpus of items to a double-vector representation is called *landmarks*.\n",
    "\n",
    "Luckily, the creation of *landmarks* is fully implemented by gismo."
   ]
  },
  {
   "cell_type": "code",
   "execution_count": 9,
   "metadata": {
    "ExecuteTime": {
     "end_time": "2021-02-25T15:00:35.780401Z",
     "start_time": "2021-02-25T15:00:30.692743Z"
    }
   },
   "outputs": [],
   "source": [
    "from gismo.landmarks import Landmarks\n",
    "committees_landmarks = Landmarks(source=algotels_lmks, to_text=lambda x: x['dblp'],\n",
    "                           rank = lambda g, q: g.rank(q, y=False))\n",
    "committees_landmarks.fit(xgismo)"
   ]
  },
  {
   "cell_type": "markdown",
   "metadata": {},
   "source": [
    "A few tests: which committes were more adapted to satellites? (``max_k`` and ``target_k`` are hyper-parameters to adjust the number of results returned)."
   ]
  },
  {
   "cell_type": "code",
   "execution_count": 10,
   "metadata": {
    "ExecuteTime": {
     "end_time": "2021-02-25T15:00:43.018688Z",
     "start_time": "2021-02-25T15:00:42.792640Z"
    }
   },
   "outputs": [
    {
     "data": {
      "text/plain": [
       "['2003', '2002', '2001']"
      ]
     },
     "execution_count": 10,
     "metadata": {},
     "output_type": "execute_result"
    }
   ],
   "source": [
    "xgismo.rank(\"Satellites communications\")\n",
    "committees_landmarks.post_item = lambda l, i: l[i]['name']\n",
    "committees_landmarks.get_landmarks_by_rank(xgismo, target_k=1.1, max_k=10)"
   ]
  },
  {
   "cell_type": "markdown",
   "metadata": {},
   "source": [
    "What about self-stabilization?"
   ]
  },
  {
   "cell_type": "code",
   "execution_count": 11,
   "metadata": {
    "ExecuteTime": {
     "end_time": "2021-02-25T15:00:44.961888Z",
     "start_time": "2021-02-25T15:00:44.727731Z"
    }
   },
   "outputs": [
    {
     "data": {
      "text/plain": [
       "['2017', '2010']"
      ]
     },
     "execution_count": 11,
     "metadata": {},
     "output_type": "execute_result"
    }
   ],
   "source": [
    "xgismo.rank(\"Self stabilization\")\n",
    "committees_landmarks.post_item = lambda l, i: l[i]['name']\n",
    "committees_landmarks.get_landmarks_by_rank(xgismo, target_k=1.1, max_k=10)"
   ]
  },
  {
   "cell_type": "markdown",
   "metadata": {},
   "source": [
    "Blockchains?"
   ]
  },
  {
   "cell_type": "code",
   "execution_count": 12,
   "metadata": {
    "ExecuteTime": {
     "end_time": "2021-02-25T15:00:46.903013Z",
     "start_time": "2021-02-25T15:00:46.692894Z"
    }
   },
   "outputs": [
    {
     "data": {
      "text/plain": [
       "['2020', '2021']"
      ]
     },
     "execution_count": 12,
     "metadata": {},
     "output_type": "execute_result"
    }
   ],
   "source": [
    "xgismo.rank(\"Blockchains\")\n",
    "committees_landmarks.post_item = lambda l, i: l[i]['name']\n",
    "committees_landmarks.get_landmarks_by_rank(xgismo, target_k=1.1, max_k=10)"
   ]
  },
  {
   "cell_type": "markdown",
   "metadata": {},
   "source": [
    "OK, things seem to be working. We can start the actual study."
   ]
  },
  {
   "cell_type": "markdown",
   "metadata": {},
   "source": [
    "## Relationships accross the years"
   ]
  },
  {
   "cell_type": "markdown",
   "metadata": {},
   "source": [
    "Here, we propose to analyze how similar the committes are with each others."
   ]
  },
  {
   "cell_type": "markdown",
   "metadata": {},
   "source": [
    "We will compare how similar the different editions are with each other using *cosine similarity* and display the results in a 2-dimensional heatmap. The following cell defines a generic function for this purpose."
   ]
  },
  {
   "cell_type": "code",
   "execution_count": 13,
   "metadata": {
    "ExecuteTime": {
     "end_time": "2021-02-25T15:01:35.559464Z",
     "start_time": "2021-02-25T15:01:35.245339Z"
    }
   },
   "outputs": [],
   "source": [
    "from matplotlib import pyplot as plt\n",
    "import numpy as np\n",
    "\n",
    "from sklearn.metrics.pairwise import cosine_similarity\n",
    "\n",
    "def pre_map(lmks, slc=None, get_name=None, balance=.5):\n",
    "    if slc is None:\n",
    "        slc = slice(len(lmks))\n",
    "    if get_name is None:\n",
    "        get_name = lambda l: l\n",
    "    vect = lmks.get_base(balance=balance)\n",
    "    ticks = np.arange(len(lmks))[slc]\n",
    "    tick_labels = [get_name(a) for a in lmks[slc]]\n",
    "    return vect, ticks, tick_labels\n",
    "\n",
    "def draw_heatmap(x_lmks, x_slice=None, x_name=None,\n",
    "                 y_lmks=None, y_slice=None, y_name=None,\n",
    "                 tikz=None, balance=.5, y_key=None,\n",
    "                 vmin=None, vmax=None):\n",
    "    x_vect, x_ticks, x_labels = pre_map(x_lmks, x_slice, x_name, balance)\n",
    "    if y_lmks is None:\n",
    "        y_vect, y_ticks, y_labels = x_vect, x_ticks, x_labels\n",
    "    else:\n",
    "        y_vect, y_ticks, y_labels = pre_map(y_lmks, y_slice, y_name, balance)\n",
    "    fig = plt.figure(figsize=(10, 10))\n",
    "    ax = fig.add_subplot(111)\n",
    "    # LICO! y first for lines\n",
    "    sims = cosine_similarity(y_vect, x_vect)\n",
    "    if y_key is not None:\n",
    "        values = y_key(sims)\n",
    "        y_sort = np.argsort(values)\n",
    "        sims = sims[y_sort, :]\n",
    "        y_labels = [y_labels[i] for i in y_sort]\n",
    "    cax = ax.matshow(sims, cmap=plt.cm.jet, vmin=vmin, vmax=vmax)\n",
    "    cbar = fig.colorbar(cax)\n",
    "    cbar.set_label('Similarity', rotation=270, labelpad=10)\n",
    "    ax.set_xticks(x_ticks)\n",
    "    ax.set_xticklabels(x_labels)\n",
    "    ax.set_yticks(y_ticks)\n",
    "    ax.set_yticklabels(y_labels)\n",
    "\n",
    "    # to save as .tex. tikzplotlib library required\n",
    "    # to rotate colormap label, use the following in the tex source\n",
    "    # colorbar style={ylabel={Similarity}, ylabel style={rotate=180}},\n",
    "    if tikz is not None:\n",
    "        import tikzplotlib\n",
    "        tikzplotlib.save(tikz)\n",
    "\n",
    "    plt.show()    "
   ]
  },
  {
   "cell_type": "markdown",
   "metadata": {},
   "source": [
    "The following extracts vectorial representations of the committees from 1999 to 2021."
   ]
  },
  {
   "cell_type": "code",
   "execution_count": 14,
   "metadata": {
    "ExecuteTime": {
     "end_time": "2021-02-25T15:01:58.464815Z",
     "start_time": "2021-02-25T15:01:58.204165Z"
    }
   },
   "outputs": [
    {
     "data": {
      "image/png": "[encoded data removed]",
      "text/plain": [
       "<Figure size 720x720 with 2 Axes>"
      ]
     },
     "metadata": {
      "needs_background": "light"
     },
     "output_type": "display_data"
    }
   ],
   "source": [
    "draw_heatmap(committees_landmarks, x_slice=slice(0, 22, 3), x_name=lambda a: a['name'], vmax=.9, vmin=.3, tikz=\"years.tex\")"
   ]
  },
  {
   "cell_type": "markdown",
   "metadata": {},
   "source": [
    "Interpretation:\n",
    "- years with bright colors are similar between them\n",
    "- There is a small cluster of early Algotels (2000-2003 very roughly)\n",
    "- Main cluster that continues today started in 2003 but roughly stabilized in 2009.\n",
    "- Two *strange* years: 2007, and to a lesser extend 2004\n",
    "- A few twin-editions (e.g. 2001-2002, 2004-2005. 2013-2014, 2020-2021), probably corresponding to higher committee overlaps (to be checked).\n",
    "- Core of the main cluster: 2010-2012 + 2016-2021."
   ]
  },
  {
   "cell_type": "markdown",
   "metadata": {},
   "source": [
    "Side investigation on year 2007."
   ]
  },
  {
   "cell_type": "code",
   "execution_count": 15,
   "metadata": {
    "ExecuteTime": {
     "end_time": "2021-02-25T15:02:15.653204Z",
     "start_time": "2021-02-25T15:02:15.417128Z"
    }
   },
   "outputs": [
    {
     "data": {
      "text/plain": [
       "True"
      ]
     },
     "execution_count": 15,
     "metadata": {},
     "output_type": "execute_result"
    }
   ],
   "source": [
    "xgismo.rank(\" \".join(algotels['by_year']['2007']), y=False)"
   ]
  },
  {
   "cell_type": "code",
   "execution_count": 16,
   "metadata": {
    "ExecuteTime": {
     "end_time": "2021-02-25T15:02:16.599953Z",
     "start_time": "2021-02-25T15:02:16.594914Z"
    }
   },
   "outputs": [
    {
     "data": {
      "text/plain": [
       "'Guillaume_Chelius, David_Coudert, Marin_Bertier, Lélia_Blin, Tijani_Chahed, Claude_Chaudet, Marcelo_Dias_de_Amorim, Bertrand_Ducourthial, Jean-Michel_Fourneau, Jérôme_Galtier, Cyril_Gavoille, Yacine_Ghamri-Doudane, Isabelle_Guérin_Lassous, Clémence_Magnien, Thomas_Noël, Philippe_Owezarski, Christophe_Paul, Christophe_Prieur, Hervé_Rivano, Franck_Rousseau, Bruno_Sericola, David_Simplot-Ryl, Radu_State, Sébastien_Tixeuil, Fabrice_Valois, Sandrine_Vial, Eric_Weis'"
      ]
     },
     "execution_count": 16,
     "metadata": {},
     "output_type": "execute_result"
    }
   ],
   "source": [
    "\", \".join(algotels['by_year']['2007'])"
   ]
  },
  {
   "cell_type": "code",
   "execution_count": 17,
   "metadata": {
    "ExecuteTime": {
     "end_time": "2021-02-25T15:02:17.649318Z",
     "start_time": "2021-02-25T15:02:17.644280Z"
    }
   },
   "outputs": [
    {
     "data": {
      "text/plain": [
       "'classroom, self, wireless sensor, stabilization, sensor network, intruder, intruders, route, sensor networks, internet, routing, wireless sensor network, mobility, evaluation, 802, boundary control'"
      ]
     },
     "execution_count": 17,
     "metadata": {},
     "output_type": "execute_result"
    }
   ],
   "source": [
    "\", \".join(xgismo.get_features_by_rank())"
   ]
  },
  {
   "cell_type": "markdown",
   "metadata": {},
   "source": [
    "## Lincs between topics and committes"
   ]
  },
  {
   "cell_type": "markdown",
   "metadata": {},
   "source": [
    "We can zoom on a set of topics and observe how well it was represented in the program committees. We decided to zoom on 3 sets:\n",
    "- The official 2021 Algotel topics\n",
    "- The official 1999 Algotel topics\n",
    "- The official 2010 Algotel topics"
   ]
  },
  {
   "cell_type": "code",
   "execution_count": 21,
   "metadata": {
    "ExecuteTime": {
     "end_time": "2021-02-25T15:03:48.822532Z",
     "start_time": "2021-02-25T15:03:48.818558Z"
    }
   },
   "outputs": [],
   "source": [
    "topics_2021 =['Green networking, Energy efficient systems',\n",
    "  'Configuration and routing in large-scale networks',\n",
    "  'Performance evaluation, dimensioning and modeling',\n",
    "  'Management and mining of massive distributed data',\n",
    "  'Dynamic Graphs and Networks',\n",
    "  'Graph and network measurements',\n",
    "  'Stochastic geometry models for networks',\n",
    "  'Scheduling, Operations Research and Optimization',\n",
    "  'Planning, network dimensioning, resource allocation',\n",
    "  'Ad hoc networks, sensor networks, wireless body networks',\n",
    "  'Cellular and satellite networks',\n",
    "  \"Interaction networks\",\n",
    "  'Complex networks',\n",
    "  'Opportunistic networks',\n",
    "  'Content Oriented Networks (CCN)',\n",
    "  'Peer-to-Peer Networks',\n",
    "  'VANETs, optical, robot networks',\n",
    "  'Network programming: SDN, NFV',\n",
    "  'Security and privacy in networks',\n",
    "  'Fault tolerance',\n",
    "  'Blockchains',\n",
    "  'Self-stabilization, self-organization and autonomous systems',\n",
    "  'Cloud Computing',\n",
    "  'Competition, synchronization and transactional memory',\n",
    "  'Internet of Things',\n",
    "  'Game Theory and Collaborative Learning']"
   ]
  },
  {
   "cell_type": "code",
   "execution_count": 22,
   "metadata": {
    "ExecuteTime": {
     "end_time": "2021-02-25T15:03:50.599224Z",
     "start_time": "2021-02-25T15:03:50.596223Z"
    }
   },
   "outputs": [],
   "source": [
    "topics_1999 = ['Mobile and satellite telecommunications',\n",
    "              'Dimensioning',\n",
    "              'Routing',\n",
    "              'Optical Technologies',\n",
    "              'multi-point communications']"
   ]
  },
  {
   "cell_type": "code",
   "execution_count": 23,
   "metadata": {
    "ExecuteTime": {
     "end_time": "2021-02-25T15:03:51.894934Z",
     "start_time": "2021-02-25T15:03:51.891704Z"
    }
   },
   "outputs": [],
   "source": [
    "topics_2010 = ['Energy efficient networks', \n",
    "              'Distributed algorithms for networks',\n",
    "              'new generation cellular networks',\n",
    "              'algorithms for interaction networks',\n",
    "              'resource allocation',\n",
    "              'configuration, routing, and QoS in large scale networks',\n",
    "              'self-organized radio networks',\n",
    "              'fault and attack tolerance']"
   ]
  },
  {
   "cell_type": "code",
   "execution_count": 24,
   "metadata": {
    "ExecuteTime": {
     "end_time": "2021-02-25T15:04:03.323897Z",
     "start_time": "2021-02-25T15:03:58.364344Z"
    }
   },
   "outputs": [],
   "source": [
    "topics_2021_lmks = Landmarks(source=topics_2021)\n",
    "topics_2021_lmks.fit(xgismo)"
   ]
  },
  {
   "cell_type": "code",
   "execution_count": 25,
   "metadata": {
    "ExecuteTime": {
     "end_time": "2021-02-25T15:04:05.864232Z",
     "start_time": "2021-02-25T15:04:05.515111Z"
    }
   },
   "outputs": [
    {
     "data": {
      "image/png": "[encoded data removed]",
      "text/plain": [
       "<Figure size 720x720 with 2 Axes>"
      ]
     },
     "metadata": {
      "needs_background": "light"
     },
     "output_type": "display_data"
    }
   ],
   "source": [
    "draw_heatmap(committees_landmarks, x_slice=slice(0, 22, 3), x_name=lambda a: a['name'], y_lmks=topics_2021_lmks,\n",
    "             tikz=\"topics_2021.tex\", vmin=.05, y_key=lambda s: -s[:, -1])"
   ]
  },
  {
   "cell_type": "code",
   "execution_count": 26,
   "metadata": {
    "ExecuteTime": {
     "end_time": "2021-02-25T15:04:09.073543Z",
     "start_time": "2021-02-25T15:04:08.029443Z"
    }
   },
   "outputs": [],
   "source": [
    "topics_1999_lmks = Landmarks(source=topics_1999)\n",
    "topics_1999_lmks.fit(xgismo)"
   ]
  },
  {
   "cell_type": "code",
   "execution_count": 27,
   "metadata": {
    "ExecuteTime": {
     "end_time": "2021-02-25T15:04:09.959410Z",
     "start_time": "2021-02-25T15:04:09.762768Z"
    }
   },
   "outputs": [
    {
     "data": {
      "image/png": "[encoded data removed]",
      "text/plain": [
       "<Figure size 720x720 with 2 Axes>"
      ]
     },
     "metadata": {
      "needs_background": "light"
     },
     "output_type": "display_data"
    }
   ],
   "source": [
    "draw_heatmap(committees_landmarks, x_slice=slice(0, 22, 3), x_name=lambda a: a['name'], y_lmks=topics_1999_lmks,\n",
    "             tikz=\"topics_1999.tex\", vmin=.05, y_key=lambda s: -s[:, 0])"
   ]
  },
  {
   "cell_type": "code",
   "execution_count": 28,
   "metadata": {
    "ExecuteTime": {
     "end_time": "2021-02-25T15:04:12.733769Z",
     "start_time": "2021-02-25T15:04:11.083238Z"
    }
   },
   "outputs": [],
   "source": [
    "topics_2010_lmks = Landmarks(source=topics_2010)\n",
    "topics_2010_lmks.fit(xgismo)"
   ]
  },
  {
   "cell_type": "code",
   "execution_count": 29,
   "metadata": {
    "ExecuteTime": {
     "end_time": "2021-02-25T15:04:13.702810Z",
     "start_time": "2021-02-25T15:04:13.490728Z"
    }
   },
   "outputs": [
    {
     "data": {
      "image/png": "[encoded data removed]",
      "text/plain": [
       "<Figure size 720x720 with 2 Axes>"
      ]
     },
     "metadata": {
      "needs_background": "light"
     },
     "output_type": "display_data"
    }
   ],
   "source": [
    "draw_heatmap(committees_landmarks, x_slice=slice(0, 22, 3), x_name=lambda a: a['name'], y_lmks=topics_2010_lmks,\n",
    "             tikz=\"topics_2010.tex\", vmin=.05, y_key=lambda s: -s[:, 11])"
   ]
  },
  {
   "cell_type": "markdown",
   "metadata": {},
   "source": [
    "## instant committee recommendation"
   ]
  },
  {
   "cell_type": "markdown",
   "metadata": {},
   "source": [
    "We propose function to help deciding members of a program committee with respect to a new field."
   ]
  },
  {
   "cell_type": "code",
   "execution_count": 30,
   "metadata": {
    "ExecuteTime": {
     "end_time": "2021-02-25T15:04:17.213524Z",
     "start_time": "2021-02-25T15:04:17.204522Z"
    }
   },
   "outputs": [],
   "source": [
    "algotel_pc_members = {a for y in committees_landmarks for a in y['dblp'].split()}\n",
    "\n",
    "def spacify(name):\n",
    "    return name.replace(\"_\", \" \")\n",
    "\n",
    "def new_pc_proposal(query, k=10, overlap=None):\n",
    "    \"\"\"\n",
    "    Propose a selection of researchers to cover a topic.\n",
    "    \n",
    "    Parameters\n",
    "    ----------\n",
    "    query: str\n",
    "        The topic that we want to cover.\n",
    "    k: int, optional\n",
    "        Number of researchers that will be proposed (default to 10).\n",
    "    overlap: float, optional\n",
    "        If set, about overlap % of returned researchers will be members of previous committees.\n",
    "        If not, the k more relevant researchers will be returned regardless of their previous memberships.\n",
    "        \n",
    "    Returns\n",
    "    -------\n",
    "    dict\n",
    "        Dictionary with two entries, one for former committee members, one for new members. \n",
    "        For each member, the name and rank (a.k.a relevance to the query, rank is NOT an indication of value) is returned.\n",
    "    \"\"\"\n",
    "    success = xgismo.rank(query)\n",
    "    if not success:\n",
    "        print(\"Request not found\")\n",
    "        return False\n",
    "    \n",
    "    print(f\"Looking for researchers involved in: {', '.join(xgismo.get_features_by_rank())}\")\n",
    "\n",
    "    if overlap is None:\n",
    "        is_former = [xgismo.corpus[n] in algotel_pc_members for n in xgismo.diteration.x_order[:k]]\n",
    "        inside_indices = [i for i, former in enumerate(is_former) if former]\n",
    "        outside_indices = [i for i, former in enumerate(is_former) if not former]\n",
    "    else:    \n",
    "        is_former = [xgismo.corpus[n] in algotel_pc_members for n in xgismo.diteration.x_order]\n",
    "        k_inside = int(overlap * k /100)\n",
    "        k_outside = k - k_inside\n",
    "        inside_indices = [i for i, former in enumerate(is_former) if former][:k_inside]\n",
    "        outside_indices = [i for i, former in enumerate(is_former) if not former][:k_outside]\n",
    "    \n",
    "    return {\n",
    "        'Suggestion of former members': [{'name': spacify(xgismo.corpus[xgismo.diteration.x_order[i]]), 'rank': i} \n",
    "                                           for i in inside_indices],\n",
    "        'Suggestion of new members': [{'name': spacify(xgismo.corpus[xgismo.diteration.x_order[i]]), 'rank': i} \n",
    "                                           for i in outside_indices]\n",
    "\n",
    "    }    "
   ]
  },
  {
   "cell_type": "markdown",
   "metadata": {},
   "source": [
    "Example: finding PC members for quantum networks."
   ]
  },
  {
   "cell_type": "code",
   "execution_count": 31,
   "metadata": {
    "ExecuteTime": {
     "end_time": "2021-02-25T15:04:19.335895Z",
     "start_time": "2021-02-25T15:04:19.131312Z"
    }
   },
   "outputs": [
    {
     "name": "stdout",
     "output_type": "stream",
     "text": [
      "Looking for researchers involved in: quantum, boolean, quantum networks, quantum network, measurement, induce, dynamics, controllability, regularize, synchronization, linear regression, quantum key, measurements, key distribution, quantum communication, network synchronization, tomography, quantum key distribution, key, gossiping, network reduce, regression, state, classical, gossip, consensus, distribution, hamiltonian\n"
     ]
    },
    {
     "data": {
      "text/plain": [
       "{'Suggestion of former members': [],\n",
       " 'Suggestion of new members': [{'name': 'Ian R. Petersen', 'rank': 0},\n",
       "  {'name': 'Guodong Shi', 'rank': 1},\n",
       "  {'name': 'Nicolas Gisin', 'rank': 2},\n",
       "  {'name': 'Hongsheng Qi', 'rank': 3},\n",
       "  {'name': 'Biqiang Mu', 'rank': 4},\n",
       "  {'name': 'Shuangshuang Fu', 'rank': 5},\n",
       "  {'name': 'Saikat Guha', 'rank': 6},\n",
       "  {'name': 'Pablo Arrighi', 'rank': 7},\n",
       "  {'name': 'François Le Gall', 'rank': 8},\n",
       "  {'name': 'Harumichi Nishimura', 'rank': 9}]}"
      ]
     },
     "execution_count": 31,
     "metadata": {},
     "output_type": "execute_result"
    }
   ],
   "source": [
    "new_pc_proposal('quantum networks')"
   ]
  },
  {
   "cell_type": "markdown",
   "metadata": {},
   "source": [
    "Enforce a proportion of 50% of former PC members in the results (we will keep that parameter in the rest of this notebook)."
   ]
  },
  {
   "cell_type": "code",
   "execution_count": 32,
   "metadata": {
    "ExecuteTime": {
     "end_time": "2021-02-25T15:04:21.689167Z",
     "start_time": "2021-02-25T15:04:21.433070Z"
    }
   },
   "outputs": [
    {
     "name": "stdout",
     "output_type": "stream",
     "text": [
      "Looking for researchers involved in: quantum, boolean, quantum networks, quantum network, measurement, induce, dynamics, controllability, regularize, synchronization, linear regression, quantum key, measurements, key distribution, quantum communication, network synchronization, tomography, quantum key distribution, key, gossiping, network reduce, regression, state, classical, gossip, consensus, distribution, hamiltonian\n"
     ]
    },
    {
     "data": {
      "text/plain": [
       "{'Suggestion of former members': [{'name': 'Pierre Fraigniaud', 'rank': 86},\n",
       "  {'name': 'Philippe Nain', 'rank': 87},\n",
       "  {'name': 'Alexandre Proutière', 'rank': 135},\n",
       "  {'name': 'Philippe Jacquet', 'rank': 208},\n",
       "  {'name': 'Vincent D. Blondel', 'rank': 232}],\n",
       " 'Suggestion of new members': [{'name': 'Ian R. Petersen', 'rank': 0},\n",
       "  {'name': 'Guodong Shi', 'rank': 1},\n",
       "  {'name': 'Nicolas Gisin', 'rank': 2},\n",
       "  {'name': 'Hongsheng Qi', 'rank': 3},\n",
       "  {'name': 'Biqiang Mu', 'rank': 4}]}"
      ]
     },
     "execution_count": 32,
     "metadata": {},
     "output_type": "execute_result"
    }
   ],
   "source": [
    "new_pc_proposal('quantum networks', overlap=50)"
   ]
  },
  {
   "cell_type": "markdown",
   "metadata": {},
   "source": [
    "Find suggestions for enforcing the blockchain topic."
   ]
  },
  {
   "cell_type": "code",
   "execution_count": 33,
   "metadata": {
    "ExecuteTime": {
     "end_time": "2021-02-25T15:04:24.094220Z",
     "start_time": "2021-02-25T15:04:23.844168Z"
    }
   },
   "outputs": [
    {
     "name": "stdout",
     "output_type": "stream",
     "text": [
      "Looking for researchers involved in: blockchains, blockchain, permissioned, permissioned blockchains, asset, tendermint, base blockchains, secure, deterministic, hierarchical, consensus, committee, fairness, ethereum, byzantine, style, rational, blockchain base, evaluate, fabric, dissecting, hyperledger fabric, hyperledger, pools\n"
     ]
    },
    {
     "data": {
      "text/plain": [
       "{'Suggestion of former members': [{'name': 'Maria Potop-Butucaru', 'rank': 0},\n",
       "  {'name': 'Vincent Gramoli', 'rank': 1},\n",
       "  {'name': 'Antonella Del Pozzo', 'rank': 7},\n",
       "  {'name': 'Emmanuelle Anceaume', 'rank': 59},\n",
       "  {'name': 'Sébastien Tixeuil', 'rank': 127}],\n",
       " 'Suggestion of new members': [{'name': 'Sara Tucci Piergiovanni', 'rank': 2},\n",
       "  {'name': 'Yackolley Amoussou-Guenou', 'rank': 3},\n",
       "  {'name': 'Nida Khan', 'rank': 4},\n",
       "  {'name': 'Önder Gürcan', 'rank': 5},\n",
       "  {'name': 'Bruno Biais', 'rank': 6}]}"
      ]
     },
     "execution_count": 33,
     "metadata": {},
     "output_type": "execute_result"
    }
   ],
   "source": [
    "new_pc_proposal('blockchains', overlap=50)"
   ]
  },
  {
   "cell_type": "markdown",
   "metadata": {},
   "source": [
    "What about the green topic?"
   ]
  },
  {
   "cell_type": "code",
   "execution_count": 34,
   "metadata": {
    "ExecuteTime": {
     "end_time": "2021-02-25T15:04:25.863781Z",
     "start_time": "2021-02-25T15:04:25.604666Z"
    }
   },
   "outputs": [
    {
     "name": "stdout",
     "output_type": "stream",
     "text": [
      "Looking for researchers involved in: efficient system, energy efficient, green, networking, honeybee, system monitor, green networking, monitor, development, panel, skin, rate optimization, optimization energy, sustainable, computer network, qam, optimization, develop, performance datum, electronic, computer, game, touch, rate, modality, datum, 2012\n"
     ]
    },
    {
     "data": {
      "text/plain": [
       "{'Suggestion of former members': [{'name': 'Claude Chaudet', 'rank': 3},\n",
       "  {'name': 'Laurent Roullet', 'rank': 7},\n",
       "  {'name': 'Anne-Cécile Orgerie', 'rank': 43},\n",
       "  {'name': 'Guy Pujolle', 'rank': 66},\n",
       "  {'name': 'Catherine Rosenberg', 'rank': 73}],\n",
       " 'Suggestion of new members': [{'name': 'Mickael Randour', 'rank': 0},\n",
       "  {'name': 'Aruna Prem Bianzino', 'rank': 1},\n",
       "  {'name': 'Jean-Louis Rougier', 'rank': 2},\n",
       "  {'name': 'Antonio Pullini', 'rank': 4},\n",
       "  {'name': 'Cengis Hasan', 'rank': 5}]}"
      ]
     },
     "execution_count": 34,
     "metadata": {},
     "output_type": "execute_result"
    }
   ],
   "source": [
    "new_pc_proposal('Green networking, Energy efficient systems', overlap=50)"
   ]
  }
 ],
 "metadata": {
  "kernelspec": {
   "display_name": "Python 3",
   "language": "python",
   "name": "python3"
  },
  "language_info": {
   "codemirror_mode": {
    "name": "ipython",
    "version": 3
   },
   "file_extension": ".py",
   "mimetype": "text/x-python",
   "name": "python",
   "nbconvert_exporter": "python",
   "pygments_lexer": "ipython3",
   "version": "3.7.7"
  },
  "toc": {
   "base_numbering": 1,
   "nav_menu": {},
   "number_sections": true,
   "sideBar": true,
   "skip_h1_title": true,
   "title_cell": "Table of Contents",
   "title_sidebar": "Contents",
   "toc_cell": false,
   "toc_position": {
    "height": "calc(100% - 180px)",
    "left": "10px",
    "top": "150px",
    "width": "384px"
   },
   "toc_section_display": true,
   "toc_window_display": false
  }
 },
 "nbformat": 4,
 "nbformat_minor": 4
}
